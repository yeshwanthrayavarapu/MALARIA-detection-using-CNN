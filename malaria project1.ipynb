{
 "cells": [
  {
   "cell_type": "code",
   "execution_count": 1,
   "metadata": {},
   "outputs": [
    {
     "name": "stderr",
     "output_type": "stream",
     "text": [
      "Using TensorFlow backend.\n"
     ]
    }
   ],
   "source": [
    "import cv2\n",
    "import matplotlib.pyplot as plt\n",
    "import numpy as np\n",
    "import os\n",
    "import pandas as pd\n",
    "from PIL import Image\n",
    "from keras import backend, optimizers\n",
    "from keras.layers import Activation, BatchNormalization, Conv2D, Dense, Dropout, Flatten, MaxPooling2D\n",
    "from keras.models import Sequential\n",
    "from keras.preprocessing.image import ImageDataGenerator\n",
    "from keras.utils import np_utils\n",
    "from sklearn.model_selection import train_test_split"
   ]
  },
  {
   "cell_type": "code",
   "execution_count": 2,
   "metadata": {},
   "outputs": [],
   "source": [
    "#give your dataset path in the place of ...\n",
    "infected_dir =r\"...\\cell_images\\Parasitized\"\n",
    "uninfected_dir =r\"...\\cell_images\\uninfected\"\n",
    "infected_cells = os.listdir(infected_dir)\n",
    "uninfected_cells = os.listdir(uninfected_dir)"
   ]
  },
  {
   "cell_type": "code",
   "execution_count": null,
   "metadata": {},
   "outputs": [],
   "source": [
    "print(len(infected_cells))\n",
    "print(len(uninfected_cells))"
   ]
  },
  {
   "cell_type": "code",
   "execution_count": null,
   "metadata": {},
   "outputs": [],
   "source": [
    "def plot_examples(photo_names: list, photo_dir: str) -> None:\n",
    "    plt.figure(figsize = (15,15))\n",
    "    for num, img_name in enumerate(photo_names):\n",
    "        plt.subplot(1, len(photo_names), num + 1)\n",
    "        img_path = os.path.join(photo_dir, img_name)\n",
    "        pil_im = Image.open(img_path, 'r')\n",
    "        plt.imshow(pil_im)\n",
    "        plt.tight_layout()\n",
    "    plt.show()"
   ]
  },
  {
   "cell_type": "code",
   "execution_count": null,
   "metadata": {},
   "outputs": [],
   "source": [
    "example_infected_cells = infected_cells[:6]\n",
    "\n",
    "plot_examples(example_infected_cells, infected_dir)"
   ]
  },
  {
   "cell_type": "code",
   "execution_count": null,
   "metadata": {},
   "outputs": [],
   "source": [
    "example_uninfected_cells = uninfected_cells[:6]\n",
    "\n",
    "plot_examples(example_uninfected_cells, uninfected_dir)"
   ]
  },
  {
   "cell_type": "code",
   "execution_count": null,
   "metadata": {},
   "outputs": [],
   "source": [
    "def preprocess_images(images: list, base_path: str, img_label: int, resize: tuple = (50, 50)) -> tuple:\n",
    "    X, y = [], []\n",
    "    for image in images:\n",
    "        try:\n",
    "            img_arr = plt.imread(os.path.join(base_path, image))\n",
    "            resized_img = cv2.resize(img_arr, resize)\n",
    "            y.append(img_label)\n",
    "            X.append(resized_img)\n",
    "        except OSError as exc:\n",
    "            None\n",
    "    return X, y"
   ]
  },
  {
   "cell_type": "code",
   "execution_count": null,
   "metadata": {},
   "outputs": [],
   "source": [
    "X_p, y_p = preprocess_images(infected_cells, infected_dir, 1)\n",
    "X_u, y_u = preprocess_images(uninfected_cells, uninfected_dir, 0)"
   ]
  },
  {
   "cell_type": "code",
   "execution_count": null,
   "metadata": {},
   "outputs": [],
   "source": [
    "X = np.array([*X_p, *X_u])\n",
    "y = np.array([*y_p, *y_u])"
   ]
  },
  {
   "cell_type": "code",
   "execution_count": null,
   "metadata": {},
   "outputs": [],
   "source": [
    "X_train, X_test, y_train, y_test = train_test_split(X, y, test_size=0.3, shuffle=True)"
   ]
  },
  {
   "cell_type": "code",
   "execution_count": null,
   "metadata": {},
   "outputs": [],
   "source": [
    "y_train = np_utils.to_categorical(y_train, num_classes = 2)\n",
    "y_test = np_utils.to_categorical(y_test, num_classes = 2)"
   ]
  },
  {
   "cell_type": "code",
   "execution_count": null,
   "metadata": {},
   "outputs": [],
   "source": [
    "train_image_generator = ImageDataGenerator(\n",
    "        fill_mode='nearest',  \n",
    "        featurewise_center=False,  \n",
    "        samplewise_center=False,  \n",
    "        featurewise_std_normalization=False,\n",
    "        samplewise_std_normalization=False,  \n",
    "        zca_whitening=False,  \n",
    "        rotation_range=30,  \n",
    "        zoom_range = 0.3, \n",
    "        width_shift_range=0.2, \n",
    "        height_shift_range=0.2,  \n",
    "        horizontal_flip=True,  \n",
    "        vertical_flip=False  \n",
    ")  \n",
    "\n",
    "validation_image_generator = ImageDataGenerator()"
   ]
  },
  {
   "cell_type": "code",
   "execution_count": null,
   "metadata": {},
   "outputs": [],
   "source": [
    "train_data = train_image_generator.flow(X_train, y_train, batch_size=64, shuffle=True)\n",
    "validation_data = validation_image_generator.flow(X_test, y_test, batch_size=64, shuffle=True)"
   ]
  },
  {
   "cell_type": "code",
   "execution_count": null,
   "metadata": {},
   "outputs": [],
   "source": [
    "class CNNNet:\n",
    "    @staticmethod\n",
    "    def build(width: int, height: int, depth: int, classes: int):\n",
    "        model = Sequential()\n",
    "        input_shape = (height, width, depth)\n",
    "        channel_dimension = -1\n",
    "        \n",
    "        if backend.image_data_format() == \"channels_first\":\n",
    "            input_shape = (depth, height, width)\n",
    "            channel_dimension = 1\n",
    "            \n",
    "        # first CONV => RELU => POOL => CONV => RELU layer set\n",
    "        model.add(Conv2D(32, (3, 3), input_shape=input_shape))\n",
    "        model.add(Activation(\"relu\"))\n",
    "        model.add(MaxPooling2D(pool_size=(2, 2)))\n",
    "        model.add(BatchNormalization(axis=channel_dimension))\n",
    "        model.add(Conv2D(32, (3, 3), input_shape=input_shape))\n",
    "        model.add(Activation(\"relu\"))\n",
    "        model.add(BatchNormalization(axis=channel_dimension))\n",
    "        model.add(Dropout(0.2))\n",
    "\n",
    "        # second CONV => RELU => POOL => CONV => RELU layer set\n",
    "        model.add(Conv2D(32, (3, 3), input_shape=input_shape))\n",
    "        model.add(Activation(\"relu\"))\n",
    "        model.add(MaxPooling2D(pool_size=(2, 2)))\n",
    "        model.add(BatchNormalization(axis=channel_dimension))\n",
    "        model.add(Conv2D(32, (3, 3), input_shape=input_shape))\n",
    "        model.add(Activation(\"relu\"))\n",
    "        model.add(BatchNormalization(axis=channel_dimension))\n",
    "        model.add(Dropout(0.2))\n",
    "\n",
    "        # FC => RELU layers\n",
    "        model.add(Flatten())\n",
    "        model.add(Dense(64))\n",
    "        model.add(Activation(\"relu\"))\n",
    "        model.add(BatchNormalization(axis=channel_dimension))\n",
    "        model.add(Dropout(0.5))\n",
    "        \n",
    "        # softmax classifier\n",
    "        model.add(Dense(classes))\n",
    "        model.add(Activation(\"softmax\"))\n",
    "        \n",
    "        return model"
   ]
  },
  {
   "cell_type": "code",
   "execution_count": null,
   "metadata": {},
   "outputs": [],
   "source": [
    "height, width, depth = 50, 50, 3\n",
    "classes = 2\n",
    "\n",
    "model = CNNNet.build(width, height, depth, classes)\n",
    "model.summary()"
   ]
  },
  {
   "cell_type": "code",
   "execution_count": null,
   "metadata": {},
   "outputs": [],
   "source": [
    "steps_per_epoch = X_train.shape[0] // 64\n",
    "adam_optimizer = optimizers.Adam(lr = 0.001, decay = 0.001 / 64)\n",
    "model.compile(loss='categorical_crossentropy', optimizer=adam_optimizer, metrics=['accuracy'])"
   ]
  },
  {
   "cell_type": "code",
   "execution_count": null,
   "metadata": {},
   "outputs": [],
   "source": [
    "history = model.fit_generator(\n",
    "    train_data, \n",
    "    epochs=50,\n",
    "    steps_per_epoch=steps_per_epoch,\n",
    "    validation_data=validation_data,\n",
    "    validation_steps=6\n",
    ")"
   ]
  },
  {
   "cell_type": "code",
   "execution_count": null,
   "metadata": {},
   "outputs": [],
   "source": [
    "def show_history(history):\n",
    "    fig, ax = plt.subplots(1, 2, figsize=(15,5))\n",
    "    ax[0].set_title('Loss')\n",
    "    ax[0].plot(history.epoch, history.history[\"loss\"], label=\"Train loss\")\n",
    "    ax[0].plot(history.epoch, history.history[\"val_loss\"], label=\"Validation loss\")\n",
    "    ax[1].set_title('Accuracy')\n",
    "    ax[1].plot(history.epoch, history.history[\"accuracy\"], label=\"Train acc\")\n",
    "    ax[1].plot(history.epoch, history.history[\"val_accuracy\"], label=\"Validation acc\")\n",
    "    ax[0].legend()\n",
    "    ax[1].legend()"
   ]
  },
  {
   "cell_type": "code",
   "execution_count": null,
   "metadata": {},
   "outputs": [],
   "source": [
    "show_history(history)"
   ]
  },
  {
   "cell_type": "code",
   "execution_count": null,
   "metadata": {},
   "outputs": [],
   "source": [
    "predict = model.evaluate_generator(validation_data, steps=4)\n",
    "print(f\"Loss on test data set: {predict[0]:.5f}. Accuracy on test dataset: {predict[1] * 100:.2f}%\")"
   ]
  },
  {
   "cell_type": "code",
   "execution_count": null,
   "metadata": {},
   "outputs": [],
   "source": [
    "def show_random_predictions(model, X_test):\n",
    "    predictions = model.predict(X_test)\n",
    "    print(predictions)\n",
    "    for i, row in enumerate(predictions):\n",
    "        is_infected = row[0] <= row[1]\n",
    "        label = \"infected\" if is_infected else \"Uninfected\"\n",
    "        plt.title(label)\n",
    "        plt.imshow(X_test[i])\n",
    "        plt.show()"
   ]
  },
  {
   "cell_type": "code",
   "execution_count": null,
   "metadata": {},
   "outputs": [],
   "source": [
    "random_data = X_test[np.random.randint(X_test.shape[0],size=10), :]\n",
    "show_random_predictions(model, random_data)"
   ]
  }
 ],
 "metadata": {
  "kernelspec": {
   "display_name": "Python 3",
   "language": "python",
   "name": "python3"
  },
  "language_info": {
   "codemirror_mode": {
    "name": "ipython",
    "version": 3
   },
   "file_extension": ".py",
   "mimetype": "text/x-python",
   "name": "python",
   "nbconvert_exporter": "python",
   "pygments_lexer": "ipython3",
   "version": "3.7.6"
  }
 },
 "nbformat": 4,
 "nbformat_minor": 4
}
